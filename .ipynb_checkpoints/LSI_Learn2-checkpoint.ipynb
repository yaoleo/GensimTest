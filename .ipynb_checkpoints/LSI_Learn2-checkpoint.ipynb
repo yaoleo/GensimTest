{
 "cells": [
  {
   "cell_type": "code",
   "execution_count": 1,
   "metadata": {
    "collapsed": true
   },
   "outputs": [],
   "source": [
    "#-*-coding:utf-8-*-\n",
    "import re\n",
    "import jieba\n",
    "import sys\n",
    "reload(sys)\n",
    "sys.setdefaultencoding('utf-8')"
   ]
  },
  {
   "cell_type": "code",
   "execution_count": 2,
   "metadata": {
    "collapsed": true
   },
   "outputs": [],
   "source": [
    "f = open('2016G201000.xml')\n",
    "contents = f.read()\n",
    "contents = contents.split('<Content>')\n",
    "#print contents[1]\n",
    "# 哇 生命短暂要用python\n",
    "texts = []\n",
    "for content in contents:\n",
    "    content = content.replace('\\n','')\n",
    "    content = re.findall(ur\"[\\u4e00-\\u9fa5]+\", content.decode(\"utf-8\"))\n",
    "    content = \"\".join(content)\n",
    "    content = jieba.lcut(content, cut_all=False) # 默认也是精确模式 lcut 返回list\n",
    "    #print content[0]\n",
    "    texts.append(content)\n",
    "    #print \" \".join(content)\n",
    "    #print \"\\n\"\n",
    "#for text in texts:\n",
    "#    print text"
   ]
  },
  {
   "cell_type": "code",
   "execution_count": 3,
   "metadata": {
    "collapsed": true
   },
   "outputs": [],
   "source": [
    "from gensim import corpora, models, similarities\n",
    "import logging\n",
    "import jieba\n",
    "import jieba.posseg as pseg\n",
    "# 防止乱码\n",
    "import sys\n",
    "reload(sys)\n",
    "sys.setdefaultencoding('utf-8')\n",
    "# 打印log信息\n",
    "logging.basicConfig(format='%(asctime)s : %(levelname)s : %(message)s', level=logging.INFO)"
   ]
  },
  {
   "cell_type": "code",
   "execution_count": 4,
   "metadata": {
    "collapsed": true
   },
   "outputs": [],
   "source": [
    "# 抽取一个bag-of-words，将文档的token映射为id\n",
    "dictionary = corpora.Dictionary(texts)\n",
    "#print dictionary.token2id\n",
    "# 保存词典\n",
    "dictionary.save('LSI.dict')"
   ]
  },
  {
   "cell_type": "code",
   "execution_count": 5,
   "metadata": {
    "collapsed": true
   },
   "outputs": [],
   "source": [
    "# 产生文档向量，将用字符串表示的文档转换为用id和词频表示的文档向量\n",
    "corpus = [dictionary.doc2bow(text) for text in texts]\n",
    "corpora.MmCorpus.serialize('LSI.mm', corpus)  # store to disk, for later use\n",
    "#for c in corpus:\n",
    "#    print(c)"
   ]
  },
  {
   "cell_type": "code",
   "execution_count": 6,
   "metadata": {
    "collapsed": true
   },
   "outputs": [],
   "source": [
    "# 基于这些“训练文档”计算一个TF-IDF模型\n",
    "tfidf = models.TfidfModel(corpus)\n",
    "\n",
    "# 转化文档向量，将用词频表示的文档向量表示为一个用tf-idf值表示的文档向量\n",
    "corpus_tfidf = tfidf[corpus]\n",
    "#打印一下tfidf模型中的信息：\n",
    "print tfidf.dfs #df\n",
    "print 0\n",
    "print tfidf.idfs"
   ]
  },
  {
   "cell_type": "code",
   "execution_count": 7,
   "metadata": {
    "collapsed": false
   },
   "outputs": [
    {
     "data": {
      "text/plain": [
       "[(0,\n",
       "  u'0.877*\"\\u6d88\\u606f\\u62a5\" + 0.445*\"\\u4fc4\\u7f57\\u65af\" + 0.037*\"\\u7ecf\\u6d4e\" + 0.028*\"\\u7684\" + 0.026*\"\\u4e16\\u754c\" + 0.026*\"\\u5168\\u7403\" + 0.025*\"\\u53d1\\u5c55\" + 0.024*\"\\u589e\\u957f\" + 0.022*\"\\u666e\\u4eac\" + 0.021*\"\\u4e2d\\u56fd\"'),\n",
       " (1,\n",
       "  u'0.228*\"\\u7ecf\\u6d4e\" + -0.177*\"\\u6d88\\u606f\\u62a5\" + 0.164*\"\\u4e16\\u754c\" + 0.160*\"\\u5168\\u7403\" + 0.156*\"\\u53d1\\u5c55\" + 0.155*\"\\u589e\\u957f\" + 0.153*\"\\u7684\" + 0.117*\"\\u4e2d\\u56fd\" + 0.116*\"\\u521b\\u65b0\" + 0.097*\"\\u4e60\\u8fd1\\u5e73\"'),\n",
       " (2,\n",
       "  u'0.213*\"\\u5357\\u6d77\" + 0.188*\"\\u671d\\u9c9c\" + -0.187*\"\\u7ecf\\u6d4e\" + 0.174*\"\\u5965\\u5df4\\u9a6c\" + -0.167*\"\\u589e\\u957f\" + 0.157*\"\\u97e9\\u56fd\" + 0.149*\"\\u8bc4\\u8bba\" + 0.148*\"\\u4f1a\\u8c08\" + -0.144*\"\\u4e16\\u754c\" + 0.136*\"\\u5b89\\u500d\"'),\n",
       " (3,\n",
       "  u'-0.420*\"\\u671d\\u9c9c\" + 0.325*\"\\u8bc4\\u8bba\" + -0.292*\"\\u97e9\\u56fd\" + -0.234*\"\\u8428\\u5fb7\" + 0.165*\"\\u666e\\u4eac\" + -0.163*\"\\u6734\\u69ff\\u60e0\" + -0.161*\"\\u5bfc\\u5f39\" + -0.160*\"\\u90e8\\u7f72\" + 0.132*\"\\u53d9\\u5229\\u4e9a\" + -0.122*\"\\u53d1\\u5c04\"'),\n",
       " (4,\n",
       "  u'-0.403*\"\\u8bc4\\u8bba\" + 0.340*\"\\u5357\\u6d77\" + -0.228*\"\\u671d\\u9c9c\" + -0.201*\"\\u97e9\\u56fd\" + -0.171*\"\\u91d1\\u7816\" + 0.168*\"\\u4e1c\\u76df\" + -0.157*\"\\u666e\\u4eac\" + -0.152*\"\\u8428\\u5fb7\" + -0.146*\"\\u56de\\u590d\" + 0.131*\"\\u5b89\\u500d\"')]"
      ]
     },
     "execution_count": 7,
     "metadata": {},
     "output_type": "execute_result"
    }
   ],
   "source": [
    "# 训练LSI模型 即将训练文档向量组成的矩阵SVD分解，并做一个秩为2的近似SVD分解\n",
    "lsi = models.LsiModel(corpus_tfidf, id2word=dictionary, num_topics=100)\n",
    "\n",
    "# 保存模型\n",
    "#lsi.save('LSI.pkl')\n",
    "lsi.print_topics(5)"
   ]
  },
  {
   "cell_type": "code",
   "execution_count": 8,
   "metadata": {
    "collapsed": true
   },
   "outputs": [],
   "source": [
    "corpus_lsi = lsi[corpus_tfidf]\n",
    "for doc in corpus_lsi:\n",
    "    print doc"
   ]
  },
  {
   "cell_type": "code",
   "execution_count": null,
   "metadata": {
    "collapsed": false
   },
   "outputs": [],
   "source": [
    "lda = models.LdaModel(corpus_tfidf, id2word=dictionary, num_topics=50)\n",
    "lda.print_topics(5)"
   ]
  },
  {
   "cell_type": "code",
   "execution_count": 11,
   "metadata": {
    "collapsed": true
   },
   "outputs": [],
   "source": [
    "# 有了LSI模型，我们如何来计算文档直接的相思度，或者换个角度，给定一个查询Query，如何找到最相关的文档？当然首先是建索引了\n",
    "index = similarities.MatrixSimilarity(lsi[corpus])"
   ]
  },
  {
   "cell_type": "code",
   "execution_count": 20,
   "metadata": {
    "collapsed": true
   },
   "outputs": [],
   "source": [
    "query = texts[100] # 用第100个文档做一下测试\n",
    "#for x in query:\n",
    "#    print x\n",
    "query_bow = dictionary.doc2bow(query)\n",
    "#print query_bow\n",
    "\n",
    "query_lsi = lsi[query_bow]\n",
    "print query_lsi"
   ]
  },
  {
   "cell_type": "code",
   "execution_count": 21,
   "metadata": {
    "collapsed": false
   },
   "outputs": [
    {
     "ename": "NameError",
     "evalue": "name 'query_lsi' is not defined",
     "output_type": "error",
     "traceback": [
      "\u001b[0;31m\u001b[0m",
      "\u001b[0;31mNameError\u001b[0mTraceback (most recent call last)",
      "\u001b[0;32m<ipython-input-19-0b9fd373fc59>\u001b[0m in \u001b[0;36m<module>\u001b[0;34m()\u001b[0m\n\u001b[0;32m----> 1\u001b[0;31m \u001b[0msims\u001b[0m \u001b[0;34m=\u001b[0m \u001b[0mindex\u001b[0m\u001b[0;34m[\u001b[0m\u001b[0mquery_lsi\u001b[0m\u001b[0;34m]\u001b[0m\u001b[0;34m\u001b[0m\u001b[0m\n\u001b[0m\u001b[1;32m      2\u001b[0m \u001b[0msort_sims\u001b[0m \u001b[0;34m=\u001b[0m \u001b[0msorted\u001b[0m\u001b[0;34m(\u001b[0m\u001b[0menumerate\u001b[0m\u001b[0;34m(\u001b[0m\u001b[0msims\u001b[0m\u001b[0;34m)\u001b[0m\u001b[0;34m,\u001b[0m \u001b[0mkey\u001b[0m\u001b[0;34m=\u001b[0m\u001b[0;32mlambda\u001b[0m \u001b[0mitem\u001b[0m\u001b[0;34m:\u001b[0m \u001b[0;34m-\u001b[0m\u001b[0mitem\u001b[0m\u001b[0;34m[\u001b[0m\u001b[0;36m1\u001b[0m\u001b[0;34m]\u001b[0m\u001b[0;34m)\u001b[0m\u001b[0;34m\u001b[0m\u001b[0m\n\u001b[1;32m      3\u001b[0m \u001b[0;32mprint\u001b[0m \u001b[0msort_sims\u001b[0m\u001b[0;34m\u001b[0m\u001b[0m\n",
      "\u001b[0;31mNameError\u001b[0m: name 'query_lsi' is not defined"
     ]
    }
   ],
   "source": [
    "sims = index[query_lsi]\n",
    "sort_sims = sorted(enumerate(sims), key=lambda item: -item[1])\n",
    "print sort_sims"
   ]
  },
  {
   "cell_type": "code",
   "execution_count": 4,
   "metadata": {
    "collapsed": true
   },
   "outputs": [],
   "source": [
    "for a in texts[100]:\n",
    "    print a,\n",
    "print \"\\n\"\n",
    "for b in texts[855]:\n",
    "    print b,\n",
    "print \"\\n\"\n",
    "for c in texts[565]:\n",
    "    print c,\n",
    "print \"00\\n\""
   ]
  },
  {
   "cell_type": "code",
   "execution_count": null,
   "metadata": {
    "collapsed": true
   },
   "outputs": [],
   "source": []
  }
 ],
 "metadata": {
  "kernelspec": {
   "display_name": "Python 2",
   "language": "python",
   "name": "python2"
  },
  "language_info": {
   "codemirror_mode": {
    "name": "ipython",
    "version": 2
   },
   "file_extension": ".py",
   "mimetype": "text/x-python",
   "name": "python",
   "nbconvert_exporter": "python",
   "pygments_lexer": "ipython2",
   "version": "2.7.13"
  }
 },
 "nbformat": 4,
 "nbformat_minor": 0
}
